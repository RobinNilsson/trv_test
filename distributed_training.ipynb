{
 "cells": [
  {
   "cell_type": "code",
   "execution_count": 7,
   "metadata": {},
   "outputs": [
    {
     "name": "stderr",
     "output_type": "stream",
     "text": [
      "2020-10-07 00:48:10,298\tWARNING __init__.py:23 -- No module named 'torch'\n",
      "2020-10-07 00:48:10,301\tWARNING __init__.py:24 -- PyTorch not found. TorchTrainer will not be available\n"
     ]
    },
    {
     "ename": "ModuleNotFoundError",
     "evalue": "No module named 'torch'",
     "output_type": "error",
     "traceback": [
      "\u001b[0;31m---------------------------------------------------------------------------\u001b[0m",
      "\u001b[0;31mModuleNotFoundError\u001b[0m                       Traceback (most recent call last)",
      "\u001b[0;32m<ipython-input-7-13fb11f23976>\u001b[0m in \u001b[0;36m<module>\u001b[0;34m\u001b[0m\n\u001b[1;32m      2\u001b[0m \u001b[0;32mfrom\u001b[0m \u001b[0mray\u001b[0m\u001b[0;34m.\u001b[0m\u001b[0mutil\u001b[0m\u001b[0;34m.\u001b[0m\u001b[0msgd\u001b[0m \u001b[0;32mimport\u001b[0m \u001b[0mTorchTrainer\u001b[0m\u001b[0;34m\u001b[0m\u001b[0;34m\u001b[0m\u001b[0m\n\u001b[1;32m      3\u001b[0m \u001b[0;32mfrom\u001b[0m \u001b[0mray\u001b[0m\u001b[0;34m.\u001b[0m\u001b[0mutil\u001b[0m\u001b[0;34m.\u001b[0m\u001b[0msgd\u001b[0m\u001b[0;34m.\u001b[0m\u001b[0mtorch\u001b[0m \u001b[0;32mimport\u001b[0m \u001b[0mTrainingOperator\u001b[0m\u001b[0;34m\u001b[0m\u001b[0;34m\u001b[0m\u001b[0m\n\u001b[0;32m----> 4\u001b[0;31m \u001b[0;32mfrom\u001b[0m \u001b[0mray\u001b[0m\u001b[0;34m.\u001b[0m\u001b[0mutil\u001b[0m\u001b[0;34m.\u001b[0m\u001b[0msgd\u001b[0m\u001b[0;34m.\u001b[0m\u001b[0mtorch\u001b[0m\u001b[0;34m.\u001b[0m\u001b[0mexamples\u001b[0m\u001b[0;34m.\u001b[0m\u001b[0mtrain_example\u001b[0m \u001b[0;32mimport\u001b[0m \u001b[0mLinearDataset\u001b[0m\u001b[0;34m\u001b[0m\u001b[0;34m\u001b[0m\u001b[0m\n\u001b[0m\u001b[1;32m      5\u001b[0m \u001b[0;34m\u001b[0m\u001b[0m\n\u001b[1;32m      6\u001b[0m \u001b[0;32mimport\u001b[0m \u001b[0mtorch\u001b[0m\u001b[0;34m\u001b[0m\u001b[0;34m\u001b[0m\u001b[0m\n",
      "\u001b[0;32m/anaconda/envs/py37_tensorflow/lib/python3.7/site-packages/ray/util/sgd/torch/examples/train_example.py\u001b[0m in \u001b[0;36m<module>\u001b[0;34m\u001b[0m\n\u001b[1;32m     10\u001b[0m \u001b[0;32mimport\u001b[0m \u001b[0margparse\u001b[0m\u001b[0;34m\u001b[0m\u001b[0;34m\u001b[0m\u001b[0m\n\u001b[1;32m     11\u001b[0m \u001b[0;32mimport\u001b[0m \u001b[0mnumpy\u001b[0m \u001b[0;32mas\u001b[0m \u001b[0mnp\u001b[0m\u001b[0;34m\u001b[0m\u001b[0;34m\u001b[0m\u001b[0m\n\u001b[0;32m---> 12\u001b[0;31m \u001b[0;32mimport\u001b[0m \u001b[0mtorch\u001b[0m\u001b[0;34m\u001b[0m\u001b[0;34m\u001b[0m\u001b[0m\n\u001b[0m\u001b[1;32m     13\u001b[0m \u001b[0;32mimport\u001b[0m \u001b[0mtorch\u001b[0m\u001b[0;34m.\u001b[0m\u001b[0mnn\u001b[0m \u001b[0;32mas\u001b[0m \u001b[0mnn\u001b[0m\u001b[0;34m\u001b[0m\u001b[0;34m\u001b[0m\u001b[0m\n\u001b[1;32m     14\u001b[0m \u001b[0;34m\u001b[0m\u001b[0m\n",
      "\u001b[0;31mModuleNotFoundError\u001b[0m: No module named 'torch'"
     ]
    }
   ],
   "source": [
    "import ray\n",
    "from ray.util.sgd import TorchTrainer\n",
    "from ray.util.sgd.torch import TrainingOperator\n",
    "from ray.util.sgd.torch.examples.train_example import LinearDataset\n",
    "\n",
    "import torch\n",
    "from torch.utils.data import DataLoader\n",
    "\n",
    "class CustomTrainingOperator(TrainingOperator):\n",
    "    def setup(self, config):\n",
    "        # Load data.\n",
    "        train_loader = DataLoader(LinearDataset(2, 5), config[\"batch_size\"])\n",
    "        val_loader = DataLoader(LinearDataset(2, 5), config[\"batch_size\"])\n",
    "\n",
    "        # Create model.\n",
    "        model = torch.nn.Linear(1, 1)\n",
    "\n",
    "        # Create optimizer.\n",
    "        optimizer = torch.optim.SGD(model.parameters(), lr=1e-2)\n",
    "\n",
    "        # Create loss.\n",
    "        loss = torch.nn.MSELoss()\n",
    "\n",
    "        # Register model, optimizer, and loss.\n",
    "        self.model, self.optimizer, self.criterion = self.register(\n",
    "            models=model,\n",
    "            optimizers=optimizer,\n",
    "            criterion=loss)\n",
    "\n",
    "        # Register data loaders.\n",
    "        self.register_data(train_loader=train_loader, validation_loader=val_loader)\n",
    "\n",
    "\n",
    "ray.init()\n",
    "\n",
    "trainer1 = TorchTrainer(\n",
    "    training_operator_cls=CustomTrainingOperator,\n",
    "    num_workers=2,\n",
    "    use_gpu=False,\n",
    "    config={\"batch_size\": 64})\n",
    "\n",
    "stats = trainer1.train()\n",
    "print(stats)\n",
    "trainer1.shutdown()\n",
    "print(\"success!\")"
   ]
  },
  {
   "cell_type": "code",
   "execution_count": null,
   "metadata": {},
   "outputs": [
    {
     "name": "stdout",
     "output_type": "stream",
     "text": [
      "Collecting torch\n",
      "  Downloading torch-1.6.0-cp37-cp37m-manylinux1_x86_64.whl (748.8 MB)\n",
      "\u001b[K     |████████████████████████████████| 748.8 MB 2.9 kB/s  eta 0:00:01  |                                | 2.4 MB 6.5 MB/s eta 0:01:56     |█▌                              | 35.4 MB 44.4 MB/s eta 0:00:17     |████                            | 93.5 MB 47.1 MB/s eta 0:00:14     |████                            | 94.2 MB 47.1 MB/s eta 0:00:14     |████▎                           | 98.9 MB 47.1 MB/s eta 0:00:14MB/s eta 0:00:20     |█████▊                          | 132.9 MB 32.0 MB/s eta 0:00:20     |█████▊                          | 134.4 MB 32.0 MB/s eta 0:00:20     |██████▌                         | 151.1 MB 41.3 MB/s eta 0:00:15     |██████▋                         | 155.7 MB 41.3 MB/s eta 0:00:15��███▍                        | 174.2 MB 41.3 MB/s eta 0:00:14     |████████▉                       | 206.8 MB 43.8 MB/s eta 0:00:13     |█████████                       | 209.4 MB 43.8 MB/s eta 0:00:13     |█████████                       | 210.3 MB 43.8 MB/s eta 0:00:13MB/s eta 0:00:39█▍                    | 266.6 MB 47.0 MB/s eta 0:00:11     |███████████▉                    | 276.4 MB 47.0 MB/s eta 0:00:11█▉                    | 278.2 MB 47.0 MB/s eta 0:00:11     |████████████▎                   | 287.7 MB 47.0 MB/s eta 0:00:10     |█████████████████▋              | 412.6 MB 33.4 MB/s eta 0:00:11     |███████████████████████▏        | 542.9 MB 29 kB/s eta 1:56:17     |███████████████████████▊        | 555.5 MB 29 kB/s eta 1:49:12     |████████████████████████▏       | 566.7 MB 29 kB/s eta 1:42:501.9 MB 29 kB/s eta 1:39:56     |████████████████████████▊       | 577.4 MB 37.3 MB/s eta 0:00:05     |██████████████████████████▌     | 619.2 MB 29.7 MB/s eta 0:00:05��████████▎    | 639.5 MB 496 kB/s eta 0:03:41��████████▊    | 648.9 MB 496 kB/s eta 0:03:22     |██████████████████████████████▎ | 707.3 MB 35.5 MB/s eta 0:00:02     |██████████████████████████████▎ | 707.9 MB 35.5 MB/s eta 0:00:02     |██████████████████████████████▎ | 709.0 MB 35.5 MB/s eta 0:00:02     |██████████████████████████████▎ | 709.4 MB 35.5 MB/s eta 0:00:02     |██████████████████████████████▎ | 709.7 MB 35.5 MB/s eta 0:00:02     |██████████████████████████████▍ | 710.0 MB 7.1 MB/s eta 0:00:0637.7 MB 7.1 MB/s eta 0:00:02     |███████████████████████████████▊| 743.4 MB 38.9 MB/s eta 0:00:01�█████████████| 748.6 MB 38.9 MB/s eta 0:00:01\n",
      "\u001b[?25hRequirement already satisfied: future in /anaconda/envs/py37_tensorflow/lib/python3.7/site-packages (from torch) (0.18.2)\n",
      "Requirement already satisfied: numpy in /anaconda/envs/py37_tensorflow/lib/python3.7/site-packages (from torch) (1.18.5)\n",
      "Installing collected packages: torch\n"
     ]
    }
   ],
   "source": [
    "pip install torch"
   ]
  },
  {
   "cell_type": "code",
   "execution_count": null,
   "metadata": {},
   "outputs": [],
   "source": []
  }
 ],
 "metadata": {
  "kernelspec": {
   "display_name": "Python 3",
   "language": "python",
   "name": "python3"
  },
  "language_info": {
   "codemirror_mode": {
    "name": "ipython",
    "version": 3
   },
   "file_extension": ".py",
   "mimetype": "text/x-python",
   "name": "python",
   "nbconvert_exporter": "python",
   "pygments_lexer": "ipython3",
   "version": "3.7.7"
  }
 },
 "nbformat": 4,
 "nbformat_minor": 4
}
