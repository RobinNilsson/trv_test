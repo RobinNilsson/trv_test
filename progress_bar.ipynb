{
  "cells": [
    {
      "cell_type": "code",
      "execution_count": null,
      "metadata": {
        "collapsed": false
      },
      "outputs": [],
      "source": [
        "%matplotlib inline"
      ]
    },
    {
      "cell_type": "markdown",
      "metadata": {},
      "source": [
        "\n# Progress Bar for Ray Actors (tqdm)\n\nTracking progress of distributed tasks can be tricky.\n\nThis script will demonstrate how to implement a simple\nprogress bar for a Ray actor to track progress across various\ndifferent distributed components.\n\nOriginal source: `Link <https://github.com/votingworks/arlo-e2e>`_\n\n## Setup: Dependencies\n\nFirst, import some dependencies.\n"
      ]
    },
    {
      "cell_type": "code",
      "execution_count": null,
      "metadata": {
        "collapsed": false
      },
      "outputs": [],
      "source": [
        "# Inspiration: https://github.com/honnibal/spacy-ray/pull/\n# 1/files#diff-7ede881ddc3e8456b320afb958362b2aR12-R45\nfrom asyncio import Event\nfrom typing import Tuple\nfrom time import sleep\n\nimport ray\n# For typing purposes\nfrom ray.actor import ActorHandle\nfrom tqdm import tqdm"
      ]
    },
    {
      "cell_type": "markdown",
      "metadata": {},
      "source": [
        "This is the Ray \"actor\" that can be called from anywhere to update\nour progress. You'll be using the `update` method. Don't\ninstantiate this class yourself. Instead,\nit's something that you'll get from a `ProgressBar`.\n\n"
      ]
    },
    {
      "cell_type": "code",
      "execution_count": null,
      "metadata": {
        "collapsed": false
      },
      "outputs": [],
      "source": [
        "@ray.remote\nclass ProgressBarActor:\n    counter: int\n    delta: int\n    event: Event\n\n    def __init__(self) -> None:\n        self.counter = 0\n        self.delta = 0\n        self.event = Event()\n\n    def update(self, num_items_completed: int) -> None:\n        \"\"\"Updates the ProgressBar with the incremental\n        number of items that were just completed.\n        \"\"\"\n        self.counter += num_items_completed\n        self.delta += num_items_completed\n        self.event.set()\n\n    async def wait_for_update(self) -> Tuple[int, int]:\n        \"\"\"Blocking call.\n\n        Waits until somebody calls `update`, then returns a tuple of\n        the number of updates since the last call to\n        `wait_for_update`, and the total number of completed items.\n        \"\"\"\n        await self.event.wait()\n        self.event.clear()\n        saved_delta = self.delta\n        self.delta = 0\n        return saved_delta, self.counter\n\n    def get_counter(self) -> int:\n        \"\"\"\n        Returns the total number of complete items.\n        \"\"\"\n        return self.counter"
      ]
    },
    {
      "cell_type": "markdown",
      "metadata": {},
      "source": [
        "This is where the progress bar starts. You create one of these\non the head node, passing in the expected total number of items,\nand an optional string description.\nPass along the `actor` reference to any remote task,\nand if they complete ten\ntasks, they'll call `actor.update.remote(10)`.\n\n"
      ]
    },
    {
      "cell_type": "code",
      "execution_count": null,
      "metadata": {
        "collapsed": false
      },
      "outputs": [],
      "source": [
        "# Back on the local node, once you launch your remote Ray tasks, call\n# `print_until_done`, which will feed everything back into a `tqdm` counter.\n\n\nclass ProgressBar:\n    progress_actor: ActorHandle\n    total: int\n    description: str\n    pbar: tqdm\n\n    def __init__(self, total: int, description: str = \"\"):\n        # Ray actors don't seem to play nice with mypy, generating\n        # a spurious warning for the following line,\n        # which we need to suppress. The code is fine.\n        self.progress_actor = ProgressBarActor.remote()  # type: ignore\n        self.total = total\n        self.description = description\n\n    @property\n    def actor(self) -> ActorHandle:\n        \"\"\"Returns a reference to the remote `ProgressBarActor`.\n\n        When you complete tasks, call `update` on the actor.\n        \"\"\"\n        return self.progress_actor\n\n    def print_until_done(self) -> None:\n        \"\"\"Blocking call.\n\n        Do this after starting a series of remote Ray tasks, to which you've\n        passed the actor handle. Each of them calls `update` on the actor.\n        When the progress meter reaches 100%, this method returns.\n        \"\"\"\n        pbar = tqdm(desc=self.description, total=self.total)\n        while True:\n            delta, counter = ray.get(self.actor.wait_for_update.remote())\n            pbar.update(delta)\n            if counter >= self.total:\n                pbar.close()\n                return"
      ]
    },
    {
      "cell_type": "markdown",
      "metadata": {},
      "source": [
        "This is an example of a task that increments the progress bar.\nNote that this is a Ray Task, but it could very well\nbe any generic Ray Actor.\n\n\n"
      ]
    },
    {
      "cell_type": "code",
      "execution_count": null,
      "metadata": {
        "collapsed": false
      },
      "outputs": [],
      "source": [
        "@ray.remote\ndef sleep_then_increment(i: int, pba: ActorHandle) -> int:\n    sleep(i / 2.0)\n    pba.update.remote(1)\n    return i"
      ]
    },
    {
      "cell_type": "markdown",
      "metadata": {},
      "source": [
        "Now you can run it and see what happens!\n\n\n"
      ]
    },
    {
      "cell_type": "code",
      "execution_count": null,
      "metadata": {
        "collapsed": false
      },
      "outputs": [],
      "source": [
        "def run():\n    ray.init()\n    num_ticks = 6\n    pb = ProgressBar(num_ticks)\n    actor = pb.actor\n    # You can replace this with any arbitrary Ray task/actor.\n    tasks_pre_launch = [\n        sleep_then_increment.remote(i, actor) for i in range(0, num_ticks)\n    ]\n\n    pb.print_until_done()\n    tasks = ray.get(tasks_pre_launch)\n\n    tasks == list(range(num_ticks))\n    num_ticks == ray.get(actor.get_counter.remote())\n\n\nrun()"
      ]
    }
  ],
  "metadata": {
    "kernelspec": {
      "display_name": "Python 3",
      "language": "python",
      "name": "python3"
    },
    "language_info": {
      "codemirror_mode": {
        "name": "ipython",
        "version": 3
      },
      "file_extension": ".py",
      "mimetype": "text/x-python",
      "name": "python",
      "nbconvert_exporter": "python",
      "pygments_lexer": "ipython3",
      "version": "3.7.3"
    }
  },
  "nbformat": 4,
  "nbformat_minor": 0
}