{
 "cells": [
  {
   "cell_type": "code",
   "execution_count": 1,
   "metadata": {},
   "outputs": [
    {
     "name": "stderr",
     "output_type": "stream",
     "text": [
      "Matplotlib is building the font cache using fc-list. This may take a moment.\n"
     ]
    }
   ],
   "source": [
    "import pandas as pd\n",
    "import numpy as np\n",
    "import matplotlib.pyplot as plt\n",
    "import ray"
   ]
  },
  {
   "cell_type": "code",
   "execution_count": null,
   "metadata": {},
   "outputs": [],
   "source": [
    "df = pd.read_csv('Data/signal.csv', encoding='utf8', engine='python', sep=',', names=['timestamp', 'value', 'tail'])\n",
    "\n",
    "df['value'] = df['value'].replace([0], np.NaN).interpolate()\n",
    "\n",
    "df['timestamp'] = pd.to_datetime(df['timestamp'])\n",
    "\n",
    "signalData = df['value']\n",
    "\n",
    "ax = plt.plot(df['value'])\n",
    "plt.plot((df['tail']*5)+60, color='red')\n",
    "\n",
    "dataLength = len(df)"
   ]
  },
  {
   "cell_type": "code",
   "execution_count": 21,
   "metadata": {},
   "outputs": [
    {
     "data": {
      "text/plain": [
       "[<matplotlib.lines.Line2D at 0x7f43cc3ca750>]"
      ]
     },
     "execution_count": 21,
     "metadata": {},
     "output_type": "execute_result"
    },
    {
     "data": {
      "image/png": "[encoded data removed]",
      "text/plain": [
       "<Figure size 432x288 with 1 Axes>"
      ]
     },
     "metadata": {
      "needs_background": "light"
     },
     "output_type": "display_data"
    }
   ],
   "source": [
    "def create_noise_vector(dataLength):\n",
    "    # Set parameters\n",
    "    # for anomaly generation\n",
    "\n",
    "    anomalyLength = 2000\n",
    "    anomalyAmplitude = 2\n",
    "    anomalyWavelength = 200 #Data points per period\n",
    "    anomalyNumber = 50\n",
    "\n",
    "    # Create single anomaly vector\n",
    "    singleAnomalyVec = anomalyAmplitude * np.sin(np.array(range(1, anomalyLength))*np.pi / anomalyLength)\n",
    "    singleAnomalyVec = singleAnomalyVec * 2 * np.sin(np.array(range(1, anomalyLength))*np.pi / anomalyWavelength)\n",
    "\n",
    "    plt.plot(singleAnomalyVec)\n",
    "\n",
    "    # Randomly place a number of single vectors onto start dataset\n",
    "\n",
    "    anomalyStartVec = np.sort(np.floor(np.random.rand(anomalyNumber) * (dataLength - anomalyLength))).astype(int)\n",
    "\n",
    "    anomalyVec = np.zeros(dataLength)\n",
    "    anomalyLabel = np.zeros(dataLength)\n",
    "\n",
    "    for ii in range(anomalyNumber):\n",
    "        anomalyVec[anomalyStartVec[ii]:anomalyStartVec[ii]+anomalyLength-1] = singleAnomalyVec\n",
    "        anomalyLabel[anomalyStartVec[ii]:anomalyStartVec[ii]+anomalyLength-1] = 1\n",
    "\n",
    "    plt.plot(anomalyVec)\n",
    "\n",
    "    return anomalyVec, anomalyLabel\n",
    "\n",
    "# Get anomaly vector\n",
    "anomalyVec, anomalyLabel = create_noise_vector(dataLength)\n",
    "\n",
    "# Superpose anomaly vector\n",
    "signalDataAnomaly = signalData + anomalyVec\n",
    "\n",
    "# Add new outliers\n",
    "outlierVec = np.random.rand(dataLength)\n",
    "\n",
    "signalDataAnomaly[outlierVec < 0.0001] = 0\n",
    "\n",
    "ax = plt.plot(signalDataAnomaly)\n",
    "\n",
    "plt.plot(anomalyLabel*5+40, color='red')"
   ]
  },
  {
   "cell_type": "code",
   "execution_count": 22,
   "metadata": {},
   "outputs": [],
   "source": [
    "# Save data\n",
    "generated_data = pd.DataFrame()\n",
    "generated_data['timestamp'] = df['timestamp']\n",
    "generated_data['signalDataAnomaly'] = pd.Series(signalDataAnomaly)\n",
    "generated_data['anomalyLabel'] = pd.Series(anomalyLabel)\n",
    "\n",
    "generated_data.to_pickle('generated_data')"
   ]
  },
  {
   "cell_type": "code",
   "execution_count": 23,
   "metadata": {},
   "outputs": [],
   "source": [
    " #Load signal\n",
    "df = pd.read_pickle('generated_data')\n",
    "dataLength = len(df)\n",
    "anomalyLength = 2000\n",
    "anomalyWavelength = 200"
   ]
  },
  {
   "cell_type": "code",
   "execution_count": 24,
   "metadata": {},
   "outputs": [
    {
     "name": "stdout",
     "output_type": "stream",
     "text": [
      "LOOP FINISHED\n"
     ]
    }
   ],
   "source": [
    "# variable \"signalDataAnomaly\" is the signal to be analysed\n",
    "# Clean from outliers\n",
    "\n",
    "df['signalDataAnomaly'].loc[df['signalDataAnomaly'] < 50] = np.NaN\n",
    "df['signalDataAnomaly'] = df['signalDataAnomaly'].interpolate()\n",
    "\n",
    "signalDataAnomaly = df['signalDataAnomaly']\n",
    "\n",
    "# Convert datetime to unix time in [s]\n",
    "time = (df['timestamp'] - pd.Timestamp(\"1970-01-01\")) // pd.Timedelta('1s')\n",
    "\n",
    "anomalyLabel = df['anomalyLabel']\n",
    "\n",
    "# Perform moving window FFT anomaly detection\n",
    "\n",
    "winLength = anomalyLength #Length of moving window\n",
    "winStep = int(round(anomalyLength / 5))\n",
    "\n",
    "detectionCenterChannel = winLength / anomalyWavelength #Choose center channel of known anomaly frequency\n",
    "\n",
    "detectionBandWidth = 2 # Half width of detection band (channels)\n",
    "referenceChannelMin = 100\n",
    "referenceChannelMax = 200\n",
    "\n",
    "detectionBandMin = int(detectionCenterChannel - detectionBandWidth)-1\n",
    "detectionBandMax = int(detectionCenterChannel + detectionBandWidth)-1\n",
    "\n",
    "jj = 0\n",
    "\n",
    "anomalyDetectionVec = pd.DataFrame(columns=['1', '2', '3', '4', '5', '6', '7'])\n",
    "\n",
    "for ii in range(1, dataLength - winLength, winStep):\n",
    "    winData = signalDataAnomaly[ii:(ii + winLength)]\n",
    "    winFFT = abs(np.fft.fft(winData))\n",
    "\n",
    "    anomalyArea = sum(winFFT[detectionBandMin:detectionBandMax]) / (detectionBandMax - detectionBandMin)\n",
    "    referenceArea = sum(winFFT[referenceChannelMin:referenceChannelMax]) / (referenceChannelMax - referenceChannelMin)\n",
    "\n",
    "    anomalyDetectionVec.loc[jj, '1'] = anomalyArea / referenceArea\n",
    "\n",
    "    #Detected anomaly quotient\n",
    "    anomalyDetectionVec.loc[jj, '2'] = ii\n",
    "\n",
    "    #Moving window start index\n",
    "    anomalyDetectionVec.loc[jj, '3'] = ii + winLength\n",
    "\n",
    "    #Moving window end index\n",
    "    anomalyDetectionVec.loc[jj, '4'] = np.floor(ii + winLength / 2)\n",
    "\n",
    "    #Moving window center index\n",
    "    anomalyDetectionVec.loc[jj, '5'] = time[ii]\n",
    "\n",
    "    #Moving window start time\n",
    "    anomalyDetectionVec.loc[jj, '6'] = time[ii + winLength]\n",
    "\n",
    "    #Moving window end time\n",
    "    anomalyDetectionVec.loc[jj, '7'] = time[int(np.floor(ii + winLength / 2))]\n",
    "\n",
    "    #Moving window center time\n",
    "\n",
    "    '''\n",
    "    if True: #Set to TRUE for individual FFT plot\n",
    "        anomalyHitFlag = sum(anomalyLabel[ii:(ii + winLength)]) > 0\n",
    "        if anomalyHitFlag:\n",
    "            plt.plot(winFFT(2:100), color='red')\n",
    "        else:\n",
    "            plt.plot(winFFT(2:100), color='blue')\n",
    "        #drawnow\n",
    "    '''\n",
    "\n",
    "    jj = jj + 1\n",
    "\n",
    "print('LOOP FINISHED')\n",
    "\n",
    "jj = jj-1"
   ]
  },
  {
   "cell_type": "code",
   "execution_count": 25,
   "metadata": {},
   "outputs": [
    {
     "name": "stdout",
     "output_type": "stream",
     "text": [
      "PLOT ANOMALY DET\n",
      "PLOT ANOMALY LABEL\n",
      "PLOT ANOMALY AGAIN\n",
      "PLOT ANOMALU LABEL AGAIN\n"
     ]
    },
    {
     "data": {
      "text/plain": [
       "[<matplotlib.lines.Line2D at 0x7f43d5e5e350>]"
      ]
     },
     "execution_count": 25,
     "metadata": {},
     "output_type": "execute_result"
    },
    {
     "data": {
      "image/png": "[encoded data removed]",
      "text/plain": [
       "<Figure size 432x288 with 1 Axes>"
      ]
     },
     "metadata": {
      "needs_background": "light"
     },
     "output_type": "display_data"
    }
   ],
   "source": [
    "print('PLOT ANOMALY DET')\n",
    "plt.plot(anomalyDetectionVec['7'], anomalyDetectionVec['1'])\n",
    "\n",
    "#todo ylim([-1 180])\n",
    "\n",
    "print('PLOT ANOMALY LABEL')\n",
    "plt.plot(time,(anomalyLabel*100), color='red')\n",
    "\n",
    "#todo datetick\n",
    "\n",
    "print('PLOT ANOMALY AGAIN')\n",
    "plt.plot(anomalyDetectionVec['7'], anomalyDetectionVec['1'])\n",
    "#todo ylim([-1 180])\n",
    "\n",
    "print('PLOT ANOMALU LABEL AGAIN')\n",
    "plt.plot(time,(anomalyLabel*100), color='red')\n",
    "#todo datetick"
   ]
  },
  {
   "cell_type": "code",
   "execution_count": 26,
   "metadata": {},
   "outputs": [
    {
     "name": "stdout",
     "output_type": "stream",
     "text": [
      "START SECOND LOOP\n"
     ]
    }
   ],
   "source": [
    "#Calculate anomalyFlag by thresholding\n",
    "\n",
    "anomalyFlagReference = np.array(anomalyLabel[anomalyDetectionVec['4']]).astype(bool)\n",
    "\n",
    "truePositive = []\n",
    "trueNegative = []\n",
    "falsePositive = []\n",
    "falseNegative = []\n",
    "truePositiveRate = []\n",
    "trueNegativeRate = []\n",
    "\n",
    "print('START SECOND LOOP')\n",
    "for ii in range(200):\n",
    "    anomalyThreshold = ii\n",
    "    #anomalyFlag = np.zeros(len(anomalyDetectionVec))\n",
    "    anomalyFlag = np.array(anomalyDetectionVec['1'] > anomalyThreshold)\n",
    "\n",
    "    #Calculate confusion matrix\n",
    "\n",
    "\n",
    "    totalSum = len(anomalyFlag)\n",
    "    truePositive.append(sum(anomalyFlag & anomalyFlagReference))\n",
    "    trueNegative.append(sum(~anomalyFlag & ~anomalyFlagReference))\n",
    "    falsePositive.append(sum(anomalyFlag & ~anomalyFlagReference))\n",
    "    falseNegative.append(sum(~anomalyFlag & anomalyFlagReference))\n",
    "    truePositiveRate.append(np.array(truePositive).dot(np.linalg.pinv(np.expand_dims(\n",
    "        np.array(truePositive).astype(int)+np.array(falseNegative).astype(int), axis=0))))\n",
    "\n",
    "    trueNegativeRate.append(np.array(trueNegative).dot(np.linalg.pinv(np.expand_dims(\n",
    "        np.array(falsePositive).astype(int)+np.array(trueNegative).astype(int), axis=0))))"
   ]
  },
  {
   "cell_type": "code",
   "execution_count": 17,
   "metadata": {},
   "outputs": [
    {
     "data": {
      "text/plain": [
       "[<matplotlib.lines.Line2D at 0x7f43d032ce90>]"
      ]
     },
     "execution_count": 17,
     "metadata": {},
     "output_type": "execute_result"
    },
    {
     "data": {
      "image/png": "[encoded data removed]",
      "text/plain": [
       "<Figure size 432x288 with 1 Axes>"
      ]
     },
     "metadata": {
      "needs_background": "light"
     },
     "output_type": "display_data"
    }
   ],
   "source": [
    "plt.plot(truePositiveRate, color='green')\n",
    "plt.plot(trueNegativeRate, color='red')"
   ]
  },
  {
   "cell_type": "code",
   "execution_count": 18,
   "metadata": {},
   "outputs": [],
   "source": [
    "#Choose the threshold value when TRP and TNR crosses\n",
    "diffTprTnr = abs(np.array(truePositiveRate) - np.array(trueNegativeRate))\n",
    "\n",
    "anomalyThreshold = np.argmin(diffTprTnr)\n",
    "\n",
    "anomalyFlag = 1 * (anomalyDetectionVec['1'] > anomalyThreshold)\n"
   ]
  },
  {
   "cell_type": "code",
   "execution_count": 20,
   "metadata": {},
   "outputs": [],
   "source": [
    "#Calculate confusion matrix again for the choosen threshold\n",
    "truePositive_new = (sum(anomalyFlag & anomalyFlagReference))\n",
    "trueNegative_new = (sum(~anomalyFlag & ~anomalyFlagReference))\n",
    "falsePositive_new = (sum(anomalyFlag & ~anomalyFlagReference))\n",
    "falseNegative_new = (sum(~anomalyFlag & anomalyFlagReference))\n",
    "truePositiveRate_new = (np.array(truePositive).dot(np.linalg.pinv(np.expand_dims(\n",
    "    np.array(truePositive).astype(int) + np.array(falseNegative).astype(int), axis=0))))\n",
    "\n",
    "trueNegativeRate_new = (np.array(trueNegative).dot(np.linalg.pinv(np.expand_dims(\n",
    "    np.array(falsePositive).astype(int) + np.array(trueNegative).astype(int), axis=0))))\n",
    "\n",
    "confMatrix = [[truePositive_new, falsePositive_new], [falseNegative_new, trueNegative_new]]"
   ]
  },
  {
   "cell_type": "code",
   "execution_count": null,
   "metadata": {},
   "outputs": [],
   "source": []
  }
 ],
 "metadata": {
  "kernelspec": {
   "display_name": "Python 3",
   "language": "python",
   "name": "python3"
  },
  "language_info": {
   "codemirror_mode": {
    "name": "ipython",
    "version": 3
   },
   "file_extension": ".py",
   "mimetype": "text/x-python",
   "name": "python",
   "nbconvert_exporter": "python",
   "pygments_lexer": "ipython3",
   "version": "3.7.7"
  }
 },
 "nbformat": 4,
 "nbformat_minor": 4
}
